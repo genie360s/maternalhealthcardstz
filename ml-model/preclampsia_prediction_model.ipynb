{
 "cells": [
  {
   "cell_type": "code",
   "execution_count": 32,
   "id": "332d2f28",
   "metadata": {},
   "outputs": [],
   "source": [
    "# importing neccessary libraries\n",
    "\n",
    "from sklearn.linear_model import LogisticRegression\n",
    "from sklearn.model_selection import train_test_split\n",
    "from sklearn.metrics import accuracy_score\n",
    "import pandas as pd\n"
   ]
  },
  {
   "cell_type": "code",
   "execution_count": 33,
   "id": "affbf1cd",
   "metadata": {},
   "outputs": [
    {
     "name": "stdout",
     "output_type": "stream",
     "text": [
      "   age    bmi  systolic_blood_pressure  diastolic_blood_pressure  proteinuria  \\\n",
      "0   41  37.06                      168                        60            1   \n",
      "1   29  41.21                       89                       102            1   \n",
      "2   27  18.30                      108                        65            1   \n",
      "3   21  36.00                      196                        49            0   \n",
      "4   33  14.22                      129                        71            1   \n",
      "\n",
      "   history_of_hypertension  family_history_of_preclampsia  \\\n",
      "0                        0                              1   \n",
      "1                        0                              0   \n",
      "2                        0                              1   \n",
      "3                        0                              1   \n",
      "4                        1                              0   \n",
      "\n",
      "   preclampsia_diagnosis  \n",
      "0                      1  \n",
      "1                      1  \n",
      "2                      0  \n",
      "3                      0  \n",
      "4                      1  \n"
     ]
    }
   ],
   "source": [
    "# preparing visualizing data set\n",
    "df = pd.read_csv('preclampsia_data_set_new.csv')\n",
    "\n",
    "# checking first 5 rows\n",
    "print(df.head())"
   ]
  },
  {
   "cell_type": "code",
   "execution_count": 34,
   "id": "c8589873",
   "metadata": {
    "scrolled": true
   },
   "outputs": [
    {
     "name": "stdout",
     "output_type": "stream",
     "text": [
      "     age    bmi  systolic_blood_pressure  diastolic_blood_pressure  \\\n",
      "995   42  29.65                      190                        81   \n",
      "996   28  22.76                       90                        56   \n",
      "997   32  31.81                      171                        82   \n",
      "998   30  24.84                      163                        45   \n",
      "999   28  48.18                      120                        73   \n",
      "\n",
      "     proteinuria  history_of_hypertension  family_history_of_preclampsia  \\\n",
      "995            0                        1                              1   \n",
      "996            0                        1                              0   \n",
      "997            0                        0                              1   \n",
      "998            0                        1                              0   \n",
      "999            1                        1                              0   \n",
      "\n",
      "     preclampsia_diagnosis  \n",
      "995                      0  \n",
      "996                      0  \n",
      "997                      1  \n",
      "998                      0  \n",
      "999                      0  \n"
     ]
    }
   ],
   "source": [
    "# checking last 5 rows\n",
    "print(df.tail())"
   ]
  },
  {
   "cell_type": "code",
   "execution_count": 35,
   "id": "f8075115",
   "metadata": {},
   "outputs": [],
   "source": [
    "# specifying columns for processing\n",
    "\n",
    "X = df[[ 'age', 'bmi', 'systolic_blood_pressure', 'diastolic_blood_pressure', 'proteinuria', 'history_of_hypertension', 'family_history_of_preclampsia']]\n",
    "y = df['preclampsia_diagnosis']"
   ]
  },
  {
   "cell_type": "code",
   "execution_count": 36,
   "id": "6d365f2c",
   "metadata": {},
   "outputs": [],
   "source": [
    "# Splitting data into training and testing sets\n",
    "X_train, X_test, y_train, y_test = train_test_split(df.drop('preclampsia_diagnosis', axis=1), df['preclampsia_diagnosis'], test_size=0.2, random_state=42)"
   ]
  },
  {
   "cell_type": "code",
   "execution_count": 37,
   "id": "80f50e54",
   "metadata": {},
   "outputs": [
    {
     "name": "stdout",
     "output_type": "stream",
     "text": [
      "Training set shape: (800, 7) (800,)\n",
      "Testing set shape: (200, 7) (200,)\n"
     ]
    }
   ],
   "source": [
    "# Displaying the shape of the training and testing sets\n",
    "print('Training set shape:', X_train.shape, y_train.shape)\n",
    "print('Testing set shape:', X_test.shape, y_test.shape)"
   ]
  },
  {
   "cell_type": "code",
   "execution_count": 38,
   "id": "2b95935f",
   "metadata": {},
   "outputs": [],
   "source": [
    "# creating instance of logisctic regression model\n",
    "lr_preclampsia = LogisticRegression(max_iter=1000)"
   ]
  },
  {
   "cell_type": "code",
   "execution_count": 27,
   "id": "8dcb64d7",
   "metadata": {},
   "outputs": [
    {
     "data": {
      "text/plain": [
       "LogisticRegression(max_iter=1000)"
      ]
     },
     "execution_count": 27,
     "metadata": {},
     "output_type": "execute_result"
    }
   ],
   "source": [
    "# fitting the model with the data\n",
    "lr_preclampsia.fit(X_train, y_train)"
   ]
  },
  {
   "cell_type": "code",
   "execution_count": 28,
   "id": "0b4a15ea",
   "metadata": {},
   "outputs": [],
   "source": [
    "# predicting\n",
    "y_pred = lr_preclampsia.predict(X_test)"
   ]
  },
  {
   "cell_type": "code",
   "execution_count": 29,
   "id": "43a42396",
   "metadata": {},
   "outputs": [],
   "source": [
    "#checking the accuracy of the model\n",
    "accuracy = accuracy_score(y_test, y_pred)\n"
   ]
  },
  {
   "cell_type": "code",
   "execution_count": 30,
   "id": "c3f7d369",
   "metadata": {},
   "outputs": [
    {
     "name": "stdout",
     "output_type": "stream",
     "text": [
      "Accuracy: 0.49\n"
     ]
    }
   ],
   "source": [
    "# printing accuracy of the model\n",
    "print('Accuracy:', accuracy)"
   ]
  },
  {
   "cell_type": "code",
   "execution_count": 31,
   "id": "b3db9eb3",
   "metadata": {},
   "outputs": [
    {
     "name": "stdout",
     "output_type": "stream",
     "text": [
      "[1 1 1 0 1 0 0 1 0 0 1 1 1 1 1 1 1 0 1 1 0 1 1 0 1 1 1 0 0 1 1 0 0 0 1 1 0\n",
      " 1 0 0 1 0 1 0 1 0 1 0 0 0 1 1 1 1 1 1 1 1 1 0 0 0 0 0 0 0 0 1 1 1 1 0 0 1\n",
      " 1 0 1 1 1 0 1 1 1 1 1 0 1 1 1 1 1 0 1 0 0 1 1 0 0 0 0 0 0 1 0 1 0 1 1 0 1\n",
      " 0 1 1 1 0 0 1 0 1 0 0 1 1 1 1 1 1 1 1 1 0 0 0 1 0 1 0 0 1 0 0 1 0 0 0 1 0\n",
      " 1 1 0 0 0 1 1 0 1 0 0 0 0 0 0 1 0 0 1 1 0 0 0 1 1 1 1 1 0 1 1 0 1 0 0 1 1\n",
      " 0 1 0 1 0 1 0 0 0 0 0 0 1 0 1]\n"
     ]
    }
   ],
   "source": [
    "print(y_pred)"
   ]
  },
  {
   "cell_type": "code",
   "execution_count": null,
   "id": "febc8487",
   "metadata": {},
   "outputs": [],
   "source": []
  }
 ],
 "metadata": {
  "kernelspec": {
   "display_name": "Python 3 (ipykernel)",
   "language": "python",
   "name": "python3"
  },
  "language_info": {
   "codemirror_mode": {
    "name": "ipython",
    "version": 3
   },
   "file_extension": ".py",
   "mimetype": "text/x-python",
   "name": "python",
   "nbconvert_exporter": "python",
   "pygments_lexer": "ipython3",
   "version": "3.9.13"
  }
 },
 "nbformat": 4,
 "nbformat_minor": 5
}
